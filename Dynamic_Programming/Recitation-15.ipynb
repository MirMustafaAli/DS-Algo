{
 "cells": [
  {
   "cell_type": "markdown",
   "source": [
    "#### Exercise : Simplified Blackjack"
   ],
   "metadata": {
    "collapsed": false
   },
   "id": "b47514564fdd5273"
  },
  {
   "cell_type": "code",
   "execution_count": 7,
   "outputs": [],
   "source": [
    "import math\n",
    "\n",
    "import numpy as np "
   ],
   "metadata": {
    "collapsed": false,
    "ExecuteTime": {
     "end_time": "2023-11-11T21:18:29.490618Z",
     "start_time": "2023-11-11T21:18:29.486063Z"
    }
   },
   "id": "893d23cb911293c8"
  },
  {
   "cell_type": "code",
   "execution_count": 12,
   "outputs": [],
   "source": [
    "arr = np.random.choice(10, 10)"
   ],
   "metadata": {
    "collapsed": false,
    "ExecuteTime": {
     "end_time": "2023-11-11T21:28:26.919906Z",
     "start_time": "2023-11-11T21:28:26.913825Z"
    }
   },
   "id": "11d174261a3104ca"
  },
  {
   "cell_type": "code",
   "execution_count": 13,
   "outputs": [],
   "source": [
    "def W(d,p): return 1 if ( d < p <= 21) else 0 "
   ],
   "metadata": {
    "collapsed": false,
    "ExecuteTime": {
     "end_time": "2023-11-11T21:28:28.982249Z",
     "start_time": "2023-11-11T21:28:28.978356Z"
    }
   },
   "id": "dd9ffacf45590549"
  },
  {
   "cell_type": "code",
   "execution_count": 14,
   "id": "initial_id",
   "metadata": {
    "collapsed": true,
    "ExecuteTime": {
     "end_time": "2023-11-11T21:28:29.393968Z",
     "start_time": "2023-11-11T21:28:29.391720Z"
    }
   },
   "outputs": [],
   "source": [
    "def will_hit(arr):\n",
    "    n = len(arr)\n",
    "    def X(i):\n",
    "        if i >= n - 4:\n",
    "            return  0\n",
    "        return  max(W( arr[i] + arr[i+1] , arr[i + 2] + arr[ i + 3] ) + X(i + 4), W( arr[i] + arr[i+1] , arr[i + 2] + arr[i + 3]+ arr[i + 4] ) + X(i + 5))\n",
    "        \n",
    "    return X(0)\n",
    "    "
   ]
  },
  {
   "cell_type": "code",
   "execution_count": 15,
   "outputs": [
    {
     "data": {
      "text/plain": "2"
     },
     "execution_count": 15,
     "metadata": {},
     "output_type": "execute_result"
    }
   ],
   "source": [],
   "metadata": {
    "collapsed": false,
    "ExecuteTime": {
     "end_time": "2023-11-11T21:28:29.761734Z",
     "start_time": "2023-11-11T21:28:29.759101Z"
    }
   },
   "id": "8a34e0b67ac1858c"
  },
  {
   "cell_type": "code",
   "execution_count": 19,
   "outputs": [
    {
     "data": {
      "text/plain": "2"
     },
     "execution_count": 19,
     "metadata": {},
     "output_type": "execute_result"
    }
   ],
   "source": [
    "arr = np.random.choice(10, 10)\n",
    "will_hit(arr)"
   ],
   "metadata": {
    "collapsed": false,
    "ExecuteTime": {
     "end_time": "2023-11-11T21:29:08.492252Z",
     "start_time": "2023-11-11T21:29:08.488879Z"
    }
   },
   "id": "726f0316d8f74724"
  },
  {
   "cell_type": "markdown",
   "source": [
    "### Exercise: Text Justification"
   ],
   "metadata": {
    "collapsed": false
   },
   "id": "b61cdf63a91224d7"
  },
  {
   "cell_type": "code",
   "execution_count": null,
   "outputs": [],
   "source": [],
   "metadata": {
    "collapsed": false
   },
   "id": "cf7c86ad08bcb495"
  },
  {
   "cell_type": "code",
   "execution_count": 76,
   "outputs": [],
   "source": [
    "import math\n",
    "def text_justification(w, s):\n",
    "    \n",
    "    stored_x = {}\n",
    "    n = len(w)\n",
    "    def b(i,j):\n",
    "        print(s)\n",
    "        summation = sum(w[i:j + 1])\n",
    "        print(\"summation = \", summation, f\"for {i}, and {j}\")\n",
    "        if (s > summation):\n",
    "            value = ( s - summation) ** 3\n",
    "            print(\"value\",value)\n",
    "            return value \n",
    "        else :\n",
    "            return math.inf\n",
    "    \n",
    "    def x(i):\n",
    "        \n",
    "        \n",
    "        if i >= n:\n",
    "            return 0\n",
    "        \n",
    "        if i in stored_x:  \n",
    "            return stored_x[i]\n",
    "        print(i, list(range(i,n)))\n",
    "        summed = [b(i,j) + x(j + 1)  for j in range( i, n )]\n",
    "        print(summed)\n",
    "        stored_x[i] =  min(summed) \n",
    "\n",
    "        return stored_x[i]    \n",
    "    \n",
    "    return x(0)\n",
    "    "
   ],
   "metadata": {
    "collapsed": false,
    "ExecuteTime": {
     "end_time": "2023-11-11T22:42:51.892336Z",
     "start_time": "2023-11-11T22:42:51.889222Z"
    }
   },
   "id": "9f169dbaaaf16498"
  },
  {
   "cell_type": "code",
   "execution_count": 77,
   "outputs": [
    {
     "name": "stdout",
     "output_type": "stream",
     "text": [
      "0 [0, 1, 2]\n",
      "5\n",
      "summation =  1 for 0, and 0\n",
      "value 64\n",
      "1 [1, 2]\n",
      "5\n",
      "summation =  1 for 1, and 1\n",
      "value 64\n",
      "2 [2]\n",
      "5\n",
      "summation =  1 for 2, and 2\n",
      "value 64\n",
      "[64]\n",
      "5\n",
      "summation =  2 for 1, and 2\n",
      "value 27\n",
      "[128, 27]\n",
      "5\n",
      "summation =  2 for 0, and 1\n",
      "value 27\n",
      "5\n",
      "summation =  3 for 0, and 2\n",
      "value 8\n",
      "[91, 91, 8]\n"
     ]
    },
    {
     "data": {
      "text/plain": "8"
     },
     "execution_count": 77,
     "metadata": {},
     "output_type": "execute_result"
    }
   ],
   "source": [
    "w =  np.random.choice(2, 3)\n",
    "text_justification(w, 5)"
   ],
   "metadata": {
    "collapsed": false,
    "ExecuteTime": {
     "end_time": "2023-11-11T22:42:52.580676Z",
     "start_time": "2023-11-11T22:42:52.575648Z"
    }
   },
   "id": "3381485f31dd120f"
  },
  {
   "cell_type": "code",
   "execution_count": 67,
   "outputs": [
    {
     "data": {
      "text/plain": "array([0, 2, 2, 3, 3])"
     },
     "execution_count": 67,
     "metadata": {},
     "output_type": "execute_result"
    }
   ],
   "source": [
    "w"
   ],
   "metadata": {
    "collapsed": false,
    "ExecuteTime": {
     "end_time": "2023-11-11T22:22:18.983088Z",
     "start_time": "2023-11-11T22:22:18.978873Z"
    }
   },
   "id": "6f020cb3ce7ee7c1"
  },
  {
   "cell_type": "code",
   "execution_count": null,
   "outputs": [],
   "source": [],
   "metadata": {
    "collapsed": false
   },
   "id": "c5f960e12be2df5c"
  }
 ],
 "metadata": {
  "kernelspec": {
   "display_name": "Python 3",
   "language": "python",
   "name": "python3"
  },
  "language_info": {
   "codemirror_mode": {
    "name": "ipython",
    "version": 2
   },
   "file_extension": ".py",
   "mimetype": "text/x-python",
   "name": "python",
   "nbconvert_exporter": "python",
   "pygments_lexer": "ipython2",
   "version": "2.7.6"
  }
 },
 "nbformat": 4,
 "nbformat_minor": 5
}
