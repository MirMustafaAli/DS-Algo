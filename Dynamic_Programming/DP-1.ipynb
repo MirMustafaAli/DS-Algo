{
 "cells": [
  {
   "cell_type": "markdown",
   "source": [
    "## FIBONACCI \n",
    "\n",
    "divide and conquer approach"
   ],
   "metadata": {
    "collapsed": false
   },
   "id": "ffd169f12bad139f"
  },
  {
   "cell_type": "code",
   "execution_count": 2,
   "id": "initial_id",
   "metadata": {
    "collapsed": true,
    "ExecuteTime": {
     "end_time": "2023-11-10T19:16:54.629307Z",
     "start_time": "2023-11-10T19:16:54.624668Z"
    }
   },
   "outputs": [],
   "source": [
    "def fib(n):\n",
    "    if n < 2: return n \n",
    "    return fib(n-1) + fib(n - 2)"
   ]
  },
  {
   "cell_type": "markdown",
   "source": [
    "<b> Re-using Subproblem Solution</b>"
   ],
   "metadata": {
    "collapsed": false
   },
   "id": "5809c1cbaad2ec8b"
  },
  {
   "cell_type": "code",
   "execution_count": 3,
   "outputs": [],
   "source": [
    "# recusive solution (top down)\n",
    "def fib(n):\n",
    "    memo = {}\n",
    "    def F(i):\n",
    "        if i < 2 : return i\n",
    "        if i not in memo:\n",
    "            memo[i] = F(i - 1) + F(i - 2);\n",
    "            \n",
    "        return memo[i]\n",
    "    \n",
    "    return F(n)\n"
   ],
   "metadata": {
    "collapsed": false,
    "ExecuteTime": {
     "end_time": "2023-11-10T19:18:50.186056Z",
     "start_time": "2023-11-10T19:18:50.180780Z"
    }
   },
   "id": "b064c5d6fa20c203"
  },
  {
   "cell_type": "code",
   "execution_count": 4,
   "outputs": [],
   "source": [
    "# iterative solution (bottom up )\n",
    "\n",
    "\n",
    "def fib(n):\n",
    "    F = {}\n",
    "    F[0], F[1] = 0 , 1 \n",
    "    \n",
    "    for i in range(2, n+ 1):\n",
    "        F[i] = F[i - 1] + F[i - 2]\n",
    "        \n",
    "    return F[n]\n"
   ],
   "metadata": {
    "collapsed": false,
    "ExecuteTime": {
     "end_time": "2023-11-10T19:19:45.549465Z",
     "start_time": "2023-11-10T19:19:45.543095Z"
    }
   },
   "id": "20b979941a851414"
  },
  {
   "cell_type": "markdown",
   "source": [
    "## Dynamic Programming \n",
    "- \"Recurse but re-use\" (Top down: record and lookup subproblem solutions) \n",
    "- \"Careful brute force\" (Bottom up : do each subproblem in order) \n",
    "- Often useful for <b>counting/ optimization</b> problems: almost trivially correct recurrences"
   ],
   "metadata": {
    "collapsed": false
   },
   "id": "761af9f8bcd95057"
  },
  {
   "cell_type": "markdown",
   "source": [
    "How to Solve a Problem Recursively (SRT BOT)\n",
    "1. Subproblem definition subproblem x ∈ X\n",
    "• Describe the meaning of a subproblem in words, in terms of parameters\n",
    "• Often subsets of input: prefixes, suffixes, contiguous substrings of a sequence\n",
    "• Often record partial state: add subproblems by incrementing some auxiliary variables\n",
    "2. Relate subproblem solutions recursively x(i) = f(x(j),...) for one or more j <i\n",
    "3. Topological order to argue relation is acyclic and subproblems form a DAG\n",
    "4. Base cases\n",
    "• State solutions for all (reachable) independent subproblems where relation breaks down\n",
    "5. Original problem\n",
    "• Show how to compute solution to original problem from solutions to subproblem(s)\n",
    "• Possibly use parent pointers to recover actual solution, not just objective function\n",
    "6. Time analysis\n",
    "• work(x) measures nonrecursive work in relation; treat recursions as taking O(1) time\n",
    "1This property often called optimal substructure. It is a property of recursion, not just dynamic programming\n",
    "5\n",
    "Lecture 15: Recursive Algorithms\n",
    "DAG Shortest Paths\n",
    "• Recall the DAG SSSP problem: given a DAG G and v"
   ],
   "metadata": {
    "collapsed": false
   },
   "id": "1b049572bdcb5902"
  },
  {
   "cell_type": "markdown",
   "source": [
    "## Bowling\n",
    "- Given n pins labeled 0,1,...., n - 1\n",
    "- Pin i has value v<sub>i<sub>\n",
    "- BAll of size similar to pin can hit either \n",
    "    - 1 pin i , in which case we get v<sub>i<sub> points\n",
    "    - 2 adjacent pins i and i + 1, in which case we get v<sub>i<sub>* v<sub>i+1<sub> points\n",
    "- Once a pin is hit, it can't be hit again (removed)\n",
    "- Problem : Throw zero or more balls to maximize total points \n",
    "- Example: [-1, 1,1,1,s9,9, 3, -3, -5, 2,2] "
   ],
   "metadata": {
    "collapsed": false
   },
   "id": "75a2defc4a0cbfc1"
  },
  {
   "cell_type": "markdown",
   "source": [
    "Bowling Code "
   ],
   "metadata": {
    "collapsed": false
   },
   "id": "a11a5ad2658637d7"
  },
  {
   "cell_type": "code",
   "execution_count": 5,
   "outputs": [],
   "source": [
    "# recursive solution (top down)\n",
    "\n",
    "def bowl(v):\n",
    "    memo = {}\n",
    "    def B(i):\n",
    "        if i >= len(v) : return 0 \n",
    "        if i not in memo:\n",
    "            memo[i] = max(B(i + 1), \n",
    "                          v[i] + B( i + 1 ), \n",
    "                          v[i] * v[i+1] + B(i+2))\n",
    "            \n",
    "        return memo[i]\n",
    "    \n",
    "    return B(0)\n"
   ],
   "metadata": {
    "collapsed": false,
    "ExecuteTime": {
     "end_time": "2023-11-10T19:31:46.055225Z",
     "start_time": "2023-11-10T19:31:46.033816Z"
    }
   },
   "id": "3fc8d56ca66519be"
  },
  {
   "cell_type": "code",
   "execution_count": 8,
   "outputs": [],
   "source": [
    "# iterative solytion (Bottom up)\n",
    "\n",
    "def bowl(v):\n",
    "    B = {}\n",
    "    B[len(v)] = 0 \n",
    "    B[len(v) + 1] = 1\n",
    "    for i in reversed(range(len(v))):\n",
    "        B[i] = max( B[i + 1], \n",
    "                    v[i] + B(i + 1),\n",
    "                    v[i] * v[i+ 1] + B(i + 2) )\n",
    "        \n",
    "    return B[0]"
   ],
   "metadata": {
    "collapsed": false,
    "ExecuteTime": {
     "end_time": "2023-11-10T19:33:42.537914Z",
     "start_time": "2023-11-10T19:33:42.514443Z"
    }
   },
   "id": "9789a7e31f38089f"
  },
  {
   "cell_type": "code",
   "execution_count": null,
   "outputs": [],
   "source": [],
   "metadata": {
    "collapsed": false
   },
   "id": "231ecb809c7f562f"
  }
 ],
 "metadata": {
  "kernelspec": {
   "display_name": "Python 3",
   "language": "python",
   "name": "python3"
  },
  "language_info": {
   "codemirror_mode": {
    "name": "ipython",
    "version": 2
   },
   "file_extension": ".py",
   "mimetype": "text/x-python",
   "name": "python",
   "nbconvert_exporter": "python",
   "pygments_lexer": "ipython2",
   "version": "2.7.6"
  }
 },
 "nbformat": 4,
 "nbformat_minor": 5
}
