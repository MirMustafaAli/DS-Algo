{
 "cells": [
  {
   "cell_type": "markdown",
   "source": [
    "# Longest Common Subsequence (LCS)\n",
    "- Given two strings A and B, find a longest (not necessarily contiguous) subsequence of A that is also a subsequence of B\n",
    "- Example A = hieroglyphology, B = michaelangelo\n",
    "- Solution: _hello_ or _heglo_ or _iello_ or _ieglo_, all length 5 \n",
    "- Maximization problem on length of subsequence   "
   ],
   "metadata": {
    "collapsed": false
   },
   "id": "5ebbaf91eb20a910"
  },
  {
   "cell_type": "code",
   "execution_count": 79,
   "outputs": [],
   "source": [
    "def lcs(A, B):\n",
    "    a, b = len(A), len(B)\n",
    "    x = [[0] * (b + 1) for _ in range(a + 1)]\n",
    "    for i in reversed(range(a)):\n",
    "        for j in reversed(range(b)):\n",
    "            if A[i] == B[j]:\n",
    "                x[i][j] = x[ i + 1 ][ j + 1 ] + 1 \n",
    "            else:\n",
    "                x[i][j] = max(x[i + 1][j], x[i][j + 1])\n",
    "    \n",
    "    return  x[0][0]\n",
    "    "
   ],
   "metadata": {
    "collapsed": false,
    "ExecuteTime": {
     "end_time": "2023-11-11T07:25:03.665482Z",
     "start_time": "2023-11-11T07:25:03.660666Z"
    }
   },
   "id": "f6c9ee8a8e14e822"
  },
  {
   "cell_type": "code",
   "execution_count": 80,
   "outputs": [
    {
     "data": {
      "text/plain": "4"
     },
     "execution_count": 80,
     "metadata": {},
     "output_type": "execute_result"
    }
   ],
   "source": [
    "lcs(\"asdf\", \"asdfffff\")"
   ],
   "metadata": {
    "collapsed": false,
    "ExecuteTime": {
     "end_time": "2023-11-11T07:25:04.588449Z",
     "start_time": "2023-11-11T07:25:04.558658Z"
    }
   },
   "id": "18fd9738a3706cf5"
  },
  {
   "cell_type": "markdown",
   "source": [
    "## Longest Increasing Subsequence (LIS)"
   ],
   "metadata": {
    "collapsed": false
   },
   "id": "18f2d8910630a745"
  },
  {
   "cell_type": "markdown",
   "source": [
    "**Exercise**: speed up to O(|A| log |A|) by doing only O(log |A|) work per subproblem,\n",
    "via AVL tree augmentation"
   ],
   "metadata": {
    "collapsed": false
   },
   "id": "4c2d365a3303414d"
  },
  {
   "cell_type": "code",
   "execution_count": 81,
   "outputs": [],
   "source": [
    "def lis(A):\n",
    "    a = len(A)\n",
    "    x = [1] * a\n",
    "    for i in reversed(range(a)):\n",
    "        for j in range(i, a):\n",
    "            if A[j] > A[i]:\n",
    "                x[i] = max(x[i], 1 + x[j])\n",
    "                \n",
    "    return max(x)\n",
    "    "
   ],
   "metadata": {
    "collapsed": false,
    "ExecuteTime": {
     "end_time": "2023-11-11T07:25:06.368012Z",
     "start_time": "2023-11-11T07:25:06.362767Z"
    }
   },
   "id": "86073a324cedbaaa"
  },
  {
   "cell_type": "markdown",
   "source": [
    "## Alternating Coin Game"
   ],
   "metadata": {
    "collapsed": false
   },
   "id": "819715befee583ea"
  },
  {
   "cell_type": "code",
   "execution_count": 82,
   "outputs": [],
   "source": [
    "def max_value(A):\n",
    "    length = len(A) - 1 \n",
    "    def F(i, j, p):\n",
    "\n",
    "        if  j >= len(A) : \n",
    "            return 0      \n",
    "        \n",
    "        if i == j:\n",
    "            if p == \"me\":\n",
    "                return A[i]\n",
    "            elif  p == \"you\":\n",
    "                return 0 \n",
    "\n",
    "        if p == \"me\":\n",
    "            return max( A[i] + F( i + 1 , j, \"you\"), \n",
    "                        A[j] + F(i, j + 1 , \"you\"))\n",
    "        \n",
    "        else:\n",
    "            return max( F(i + 1, j, \"me\"), F(i, j + 1 , \"me\") )\n",
    "        \n",
    "    return F(0, length, \"me\")"
   ],
   "metadata": {
    "collapsed": false,
    "ExecuteTime": {
     "end_time": "2023-11-11T07:25:07.984153Z",
     "start_time": "2023-11-11T07:25:07.981076Z"
    }
   },
   "id": "72f31d2693abc5c2"
  },
  {
   "cell_type": "code",
   "execution_count": 83,
   "outputs": [
    {
     "data": {
      "text/plain": "141"
     },
     "execution_count": 83,
     "metadata": {},
     "output_type": "execute_result"
    }
   ],
   "source": [
    "\n",
    "max_value([1,10,100,20, 40])"
   ],
   "metadata": {
    "collapsed": false,
    "ExecuteTime": {
     "end_time": "2023-11-11T07:25:08.541511Z",
     "start_time": "2023-11-11T07:25:08.521532Z"
    }
   },
   "id": "4e40be5c391d4270"
  },
  {
   "cell_type": "code",
   "execution_count": null,
   "outputs": [],
   "source": [],
   "metadata": {
    "collapsed": false
   },
   "id": "7f085ce1e5c66b4f"
  }
 ],
 "metadata": {
  "kernelspec": {
   "display_name": "Python 3",
   "language": "python",
   "name": "python3"
  },
  "language_info": {
   "codemirror_mode": {
    "name": "ipython",
    "version": 2
   },
   "file_extension": ".py",
   "mimetype": "text/x-python",
   "name": "python",
   "nbconvert_exporter": "python",
   "pygments_lexer": "ipython2",
   "version": "2.7.6"
  }
 },
 "nbformat": 4,
 "nbformat_minor": 5
}
